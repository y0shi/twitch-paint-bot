{
 "metadata": {
  "language_info": {
   "codemirror_mode": {
    "name": "ipython",
    "version": 3
   },
   "file_extension": ".py",
   "mimetype": "text/x-python",
   "name": "python",
   "nbconvert_exporter": "python",
   "pygments_lexer": "ipython3",
   "version": "3.8.5-final"
  },
  "orig_nbformat": 2,
  "kernelspec": {
   "name": "jupyter",
   "display_name": "Python (jupyter)",
   "language": "python"
  }
 },
 "nbformat": 4,
 "nbformat_minor": 2,
 "cells": [
  {
   "cell_type": "code",
   "execution_count": 8,
   "metadata": {},
   "outputs": [
    {
     "output_type": "stream",
     "name": "stdout",
     "text": [
      "Abstract_Expressionism/aaron-siskind_acolman-1-1955.jpg\nartist: aaron-siskind, title: acolman\nAbstract_Expressionism/aaron-siskind_chicago-1951.jpg\nartist: aaron-siskind, title: chicago\nAbstract_Expressionism/aaron-siskind_chicago-6-1961.jpg\nartist: aaron-siskind, title: chicago\nAbstract_Expressionism/aaron-siskind_feet-102-1957.jpg\nartist: aaron-siskind, title: feet\nAbstract_Expressionism/aaron-siskind_gloucester-16a-1944.jpg\nartist: aaron-siskind, title: gloucester\nAbstract_Expressionism/aaron-siskind_jerome-arizona-1949.jpg\nartist: aaron-siskind, title: jerome arizona\nAbstract_Expressionism/aaron-siskind_kentucky-4-1951.jpg\nartist: aaron-siskind, title: kentucky\nAbstract_Expressionism/aaron-siskind_new-york-1951.jpg\nartist: aaron-siskind, title: new york\nAbstract_Expressionism/aaron-siskind_new-york-2-1948.jpg\nartist: aaron-siskind, title: new york\nAbstract_Expressionism/aaron-siskind_new-york-24-1988.jpg\nartist: aaron-siskind, title: new york\n"
     ]
    }
   ],
   "source": [
    "import csv\n",
    "\n",
    "def has_numbers(input_string):\n",
    "    return any(char.isdigit() for char in input_string)\n",
    "\n",
    "with open('manifests/all.csv') as csv_file:\n",
    "    csv_reader = csv.reader(csv_file, delimiter=',')\n",
    "    for i,row in enumerate(csv_reader):\n",
    "        path = row[0]\n",
    "        print(path)\n",
    "        fname = path.split('/')[1]\n",
    "        (artist, title) = fname.split('.')[0].split('_')\n",
    "        words = []\n",
    "        for token in title.split('-'):\n",
    "            if not has_numbers(token):\n",
    "                words.append(token)\n",
    "        title = ' '.join(words)\n",
    "        print(f'artist: {artist}, title: {title}')\n",
    "        \n",
    "\n",
    "        if i >= 9:\n",
    "            break"
   ]
  },
  {
   "cell_type": "code",
   "execution_count": null,
   "metadata": {},
   "outputs": [],
   "source": []
  }
 ]
}